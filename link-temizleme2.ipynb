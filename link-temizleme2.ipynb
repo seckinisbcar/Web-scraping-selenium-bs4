{
 "cells": [
  {
   "cell_type": "code",
   "execution_count": null,
   "metadata": {},
   "outputs": [],
   "source": [
    "import requests\n",
    "from bs4 import BeautifulSoup\n",
    "import time\n",
    "\n",
    "file_path = \"C:\\\\Users\\\\seckin\\\\Desktop\\\\py\\\\link1.txt\"\n",
    "\n",
    "# Dosyayı oku ve satırları bir listeye ekle\n",
    "with open(file_path, 'r', encoding=\"utf-8\") as file:\n",
    "    satirlar = file.readlines()\n",
    "\n",
    "satir_listesi = []\n",
    "for satir in satirlar:\n",
    "    satir_listesi.append(satir.strip())\n",
    "\n",
    "# Her bir satır için işlemleri gerçekleştir\n",
    "for satir in satir_listesi:\n",
    "    a12 = satir.strip()\n",
    "    url = \"https.............\" + a12\n",
    "    time.sleep(2)\n",
    "\n",
    "    # Web sayfasını al ve BeautifulSoup kullanarak analiz et\n",
    "    response = requests.get(url)\n",
    "    soup = BeautifulSoup(response.content, \"html.parser\")\n",
    "    \n",
    "    # Belirli bir <div> öğesinin içeriğini al\n",
    "    diz = soup.find(\"div\", class_=\"dscrptn\").h1.next.next\n",
    "    ad = soup.find(\"div\", class_=\"dscrptn\").h1\n",
    "    add1 = ad.text\n",
    "    add = str(ad.text) + \".txt\"\n",
    "    \n",
    "    #url uzantılarını l1 ye yazdırır.\n",
    "    with open(\"L1.txt\", \"a\") as dosya:\n",
    "        dosya.write(str(a12) + \"\\n\")"
   ]
  }
 ],
 "metadata": {
  "language_info": {
   "name": "python"
  },
  "orig_nbformat": 4
 },
 "nbformat": 4,
 "nbformat_minor": 2
}
